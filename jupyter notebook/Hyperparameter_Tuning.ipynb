{
  "nbformat": 4,
  "nbformat_minor": 0,
  "metadata": {
    "colab": {
      "provenance": []
    },
    "kernelspec": {
      "name": "python3",
      "display_name": "Python 3"
    },
    "language_info": {
      "name": "python"
    }
  },
  "cells": [
    {
      "cell_type": "code",
      "execution_count": 39,
      "metadata": {
        "id": "2b0b-xVcHszf"
      },
      "outputs": [],
      "source": [
        "import numpy as np\n",
        "from sklearn.datasets import load_breast_cancer\n",
        "from sklearn.model_selection import train_test_split, GridSearchCV, RandomizedSearchCV\n",
        "from sklearn.ensemble import RandomForestClassifier\n",
        "from sklearn.metrics import accuracy_score, f1_score\n"
      ]
    },
    {
      "cell_type": "code",
      "source": [
        "# 載入乳腺癌數據集\n",
        "data = load_breast_cancer()\n",
        "X = data.data\n",
        "y = data.target\n",
        "\n",
        "# 拆分數據為訓練集和測試集\n",
        "X_train, X_test, y_train, y_test = train_test_split(X, y, test_size=0.2, random_state=42)\n"
      ],
      "metadata": {
        "id": "jxoSBHIlHyoi"
      },
      "execution_count": 40,
      "outputs": []
    },
    {
      "cell_type": "code",
      "source": [
        "# 初始化隨機森林分類器\n",
        "baseline_model = RandomForestClassifier(random_state=42)\n",
        "\n",
        "# 訓練基線模型\n",
        "baseline_model.fit(X_train, y_train)\n",
        "\n",
        "# 預測測試集\n",
        "y_pred_baseline = baseline_model.predict(X_test)\n",
        "\n",
        "# 計算基線模型分數\n",
        "baseline_f1 = f1_score(y_test, y_pred_baseline)\n",
        "print(f\"Baseline Macro F1: {baseline_f1:.5f}\")\n",
        "\n",
        "# 輸出模型的參數值\n",
        "print(\"Baseline Model Parameters:\")\n",
        "print(baseline_model.get_params())"
      ],
      "metadata": {
        "colab": {
          "base_uri": "https://localhost:8080/"
        },
        "id": "IupS9hYxHz5n",
        "outputId": "b065c8d1-c9f2-49b5-b342-ba92c7eebfa8"
      },
      "execution_count": 41,
      "outputs": [
        {
          "output_type": "stream",
          "name": "stdout",
          "text": [
            "Baseline Macro F1: 0.97222\n",
            "Baseline Model Parameters:\n",
            "{'bootstrap': True, 'ccp_alpha': 0.0, 'class_weight': None, 'criterion': 'gini', 'max_depth': None, 'max_features': 'sqrt', 'max_leaf_nodes': None, 'max_samples': None, 'min_impurity_decrease': 0.0, 'min_samples_leaf': 1, 'min_samples_split': 2, 'min_weight_fraction_leaf': 0.0, 'n_estimators': 100, 'n_jobs': None, 'oob_score': False, 'random_state': 42, 'verbose': 0, 'warm_start': False}\n"
          ]
        }
      ]
    },
    {
      "cell_type": "code",
      "source": [
        "# 定義超參數範圍\n",
        "param_grid = {\n",
        "    'n_estimators': [200, 300, 400],\n",
        "    'max_depth': [None, 10, 20, 30],\n",
        "    'min_samples_split': [2, 5, 10],\n",
        "    # 'min_samples_leaf': [1, 2, 4]\n",
        "}\n"
      ],
      "metadata": {
        "id": "tB2AH2SPHz8M"
      },
      "execution_count": 42,
      "outputs": []
    },
    {
      "cell_type": "markdown",
      "source": [
        "### 網格搜索 (Grid Search)"
      ],
      "metadata": {
        "id": "1PQ1DEJlH_oa"
      }
    },
    {
      "cell_type": "code",
      "source": [
        "# 初始化網格搜索\n",
        "grid_search = GridSearchCV(estimator=baseline_model, param_grid=param_grid, cv=5, n_jobs=-1, verbose=2)\n",
        "\n",
        "# 進行網格搜索\n",
        "grid_search.fit(X_train, y_train)\n",
        "\n",
        "# 輸出最佳參數和最佳分數\n",
        "print(f\"Best parameters found: {grid_search.best_params_}\")\n",
        "print(f\"Best cross-validation score: {grid_search.best_score_}\")\n"
      ],
      "metadata": {
        "colab": {
          "base_uri": "https://localhost:8080/"
        },
        "id": "U8JX41zzH21q",
        "outputId": "705b209c-f29a-42f3-a116-7e92acdb70e2"
      },
      "execution_count": 43,
      "outputs": [
        {
          "output_type": "stream",
          "name": "stdout",
          "text": [
            "Fitting 5 folds for each of 36 candidates, totalling 180 fits\n",
            "Best parameters found: {'max_depth': None, 'min_samples_split': 2, 'n_estimators': 200}\n",
            "Best cross-validation score: 0.9626373626373625\n"
          ]
        }
      ]
    },
    {
      "cell_type": "markdown",
      "source": [
        "### 隨機搜索 (Random Search)"
      ],
      "metadata": {
        "id": "gTULFbHWH9XS"
      }
    },
    {
      "cell_type": "code",
      "source": [
        "from sklearn.model_selection import RandomizedSearchCV\n",
        "\n",
        "# 初始化隨機搜索\n",
        "random_search = RandomizedSearchCV(estimator=baseline_model, param_distributions=param_grid, n_iter=100, cv=5, n_jobs=-1, verbose=2, random_state=42)\n",
        "\n",
        "# 進行隨機搜索\n",
        "random_search.fit(X_train, y_train)\n",
        "\n",
        "# 輸出最佳參數和最佳分數\n",
        "print(f\"Best parameters found: {random_search.best_params_}\")\n",
        "print(f\"Best cross-validation score: {random_search.best_score_}\")\n"
      ],
      "metadata": {
        "colab": {
          "base_uri": "https://localhost:8080/"
        },
        "id": "lRne56_FH24M",
        "outputId": "c5c3d935-95e1-4049-baa0-7e74a22aa017"
      },
      "execution_count": 44,
      "outputs": [
        {
          "output_type": "stream",
          "name": "stdout",
          "text": [
            "Fitting 5 folds for each of 36 candidates, totalling 180 fits\n"
          ]
        },
        {
          "output_type": "stream",
          "name": "stderr",
          "text": [
            "/usr/local/lib/python3.10/dist-packages/sklearn/model_selection/_search.py:305: UserWarning: The total space of parameters 36 is smaller than n_iter=100. Running 36 iterations. For exhaustive searches, use GridSearchCV.\n",
            "  warnings.warn(\n"
          ]
        },
        {
          "output_type": "stream",
          "name": "stdout",
          "text": [
            "Best parameters found: {'n_estimators': 200, 'min_samples_split': 2, 'max_depth': None}\n",
            "Best cross-validation score: 0.9626373626373625\n"
          ]
        }
      ]
    },
    {
      "cell_type": "code",
      "source": [
        "# 使用最佳模型進行預測\n",
        "best_model = grid_search.best_estimator_\n",
        "y_pred = best_model.predict(X_test)\n",
        "\n",
        "# 計算分數\n",
        "best_f1 = f1_score(y_test, y_pred)\n",
        "\n",
        "print(f\"Baseline Macro F1: {baseline_f1:.5f}\")\n",
        "print(f\"Best Macro F1: {best_f1:.5f}\")\n"
      ],
      "metadata": {
        "colab": {
          "base_uri": "https://localhost:8080/"
        },
        "id": "oF9ylYLZH7Wc",
        "outputId": "f90a0c9c-c3f6-4481-c67c-c557cd967006"
      },
      "execution_count": 45,
      "outputs": [
        {
          "output_type": "stream",
          "name": "stdout",
          "text": [
            "Baseline Macro F1: 0.97222\n",
            "Best Macro F1: 0.97222\n"
          ]
        }
      ]
    }
  ]
}