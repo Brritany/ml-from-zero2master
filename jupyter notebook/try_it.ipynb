{
  "nbformat": 4,
  "nbformat_minor": 0,
  "metadata": {
    "colab": {
      "provenance": []
    },
    "kernelspec": {
      "name": "python3",
      "display_name": "Python 3"
    },
    "language_info": {
      "name": "python"
    }
  },
  "cells": [
    {
      "cell_type": "markdown",
      "source": [
        "# 請使用糖尿病預測資料集，進行2元分類，預測病人是否會得糖尿病\n",
        "\n",
        "- Dataset: `diabetes_prediction_dataset.csv`"
      ],
      "metadata": {
        "id": "3smT5X24spd7"
      }
    },
    {
      "cell_type": "code",
      "source": [
        "from google.colab import drive\n",
        "drive.mount('/content/drive')"
      ],
      "metadata": {
        "id": "GO8STdS4HVdz"
      },
      "execution_count": null,
      "outputs": []
    },
    {
      "cell_type": "code",
      "source": [
        "import pandas as pd\n",
        "import numpy as np"
      ],
      "metadata": {
        "id": "iOGnQnXMHQAd"
      },
      "execution_count": null,
      "outputs": []
    },
    {
      "cell_type": "code",
      "source": [
        "# To Do 讀取檔案\n",
        "dataset_path = 'Your Dataset Path'\n",
        "\n",
        "df = pd.read_csv(dataset_path)"
      ],
      "metadata": {
        "id": "8FACPbYunwfq"
      },
      "execution_count": null,
      "outputs": []
    },
    {
      "cell_type": "code",
      "source": [
        "# To Do 分析欄位內容\n",
        "\n"
      ],
      "metadata": {
        "id": "26VKwl9oTAiB"
      },
      "execution_count": null,
      "outputs": []
    },
    {
      "cell_type": "code",
      "source": [
        "# To Do 處理缺失值、將欄位內容轉換為數值資料\n",
        "from sklearn.experimental import enable_iterative_imputer\n",
        "from sklearn.impute import SimpleImputer, KNNImputer, IterativeImputer\n"
      ],
      "metadata": {
        "id": "D_pk0jYnTGNK"
      },
      "execution_count": null,
      "outputs": []
    },
    {
      "cell_type": "code",
      "source": [
        "# 不要修改此段代碼\n",
        "from sklearn.model_selection import train_test_split\n",
        "\n",
        "X = df.drop('diabetes', axis=1)\n",
        "y = df['diabetes']\n",
        "\n",
        "X_train, X_test, y_train, y_test = train_test_split(X, y, test_size=0.2, random_state=42)"
      ],
      "metadata": {
        "id": "HRDdZC9OL9sX"
      },
      "execution_count": null,
      "outputs": []
    },
    {
      "cell_type": "code",
      "source": [
        "# 模型訓練\n",
        "\n"
      ],
      "metadata": {
        "id": "NBu1JcjWN774"
      },
      "execution_count": null,
      "outputs": []
    },
    {
      "cell_type": "code",
      "source": [
        "# 模型效能評估\n",
        "from sklearn.metrics import classification_report\n"
      ],
      "metadata": {
        "id": "kh3NIjLsTkCK"
      },
      "execution_count": null,
      "outputs": []
    },
    {
      "cell_type": "markdown",
      "source": [
        "# Have fun!"
      ],
      "metadata": {
        "id": "tW-ZLn4YrMSd"
      }
    },
    {
      "cell_type": "markdown",
      "source": [
        "## Baseline Permormance\n",
        "\n",
        "- Macro F1 Score: 0.89743\n",
        "\n",
        "\n",
        "\n",
        "|               | precision | recall  | f1-score | support |\n",
        "|---------------|-----------|---------|----------|---------|\n",
        "| 0             | 0.97141   | 0.99934 | 0.98518  | 18292   |\n",
        "| 1             | 0.98985   | 0.68501 | 0.80969  | 1708    |\n",
        "| accuracy      |           |         | 0.97250  | 20000   |\n",
        "| macro avg     | 0.98063   | 0.84218 | 0.89743  | 20000   |\n",
        "| weighted avg  | 0.97298   | 0.97250 | 0.97019  | 20000   |\n",
        "\n"
      ],
      "metadata": {
        "id": "myOL0T_cpyHS"
      }
    }
  ]
}